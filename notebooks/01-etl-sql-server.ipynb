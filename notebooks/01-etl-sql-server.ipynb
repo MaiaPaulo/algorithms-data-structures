{
 "cells": [
  {
   "cell_type": "markdown",
   "id": "daf37422-ea68-463a-b2b1-2231de20d1b4",
   "metadata": {},
   "source": [
    "# ETL - SQL Server"
   ]
  },
  {
   "cell_type": "code",
   "execution_count": 1,
   "id": "5bc3f435-644a-49fa-afe0-0ac55fc02fd7",
   "metadata": {},
   "outputs": [],
   "source": [
    "import pandas as pd\n",
    "from sqlalchemy import create_engine"
   ]
  },
  {
   "cell_type": "code",
   "execution_count": 2,
   "id": "9104329d-eec4-4ef3-b2e6-246a90d426bb",
   "metadata": {},
   "outputs": [],
   "source": [
    "server = \"PC15NV40\" # this is your computer name or remote IP address\n",
    "database = \"w3\" # default database name\n",
    "\n",
    "# connecting via Windows Authentication\n",
    "connection_string = f\"mssql+pyodbc://@{server}/{database}?driver=ODBC+Driver+17+for+SQL+Server\"\n",
    "\n",
    "engine = create_engine(connection_string)"
   ]
  },
  {
   "cell_type": "code",
   "execution_count": 3,
   "id": "41c94cea-04c8-4588-a097-8e1eed1981f5",
   "metadata": {},
   "outputs": [
    {
     "data": {
      "text/html": [
       "<div>\n",
       "<style scoped>\n",
       "    .dataframe tbody tr th:only-of-type {\n",
       "        vertical-align: middle;\n",
       "    }\n",
       "\n",
       "    .dataframe tbody tr th {\n",
       "        vertical-align: top;\n",
       "    }\n",
       "\n",
       "    .dataframe thead th {\n",
       "        text-align: right;\n",
       "    }\n",
       "</style>\n",
       "<table border=\"1\" class=\"dataframe\">\n",
       "  <thead>\n",
       "    <tr style=\"text-align: right;\">\n",
       "      <th></th>\n",
       "      <th>OrderID</th>\n",
       "      <th>CustomerID</th>\n",
       "      <th>EmployeeID</th>\n",
       "      <th>OrderDate</th>\n",
       "      <th>ShipperID</th>\n",
       "      <th>OrderDetailID</th>\n",
       "      <th>OrderID</th>\n",
       "      <th>ProductID</th>\n",
       "      <th>Quantity</th>\n",
       "      <th>ProductID</th>\n",
       "      <th>...</th>\n",
       "      <th>CategoryID</th>\n",
       "      <th>Unit</th>\n",
       "      <th>Price</th>\n",
       "      <th>CustomerID</th>\n",
       "      <th>CustomerName</th>\n",
       "      <th>ContactName</th>\n",
       "      <th>Address</th>\n",
       "      <th>City</th>\n",
       "      <th>PostalCode</th>\n",
       "      <th>Country</th>\n",
       "    </tr>\n",
       "  </thead>\n",
       "  <tbody>\n",
       "    <tr>\n",
       "      <th>0</th>\n",
       "      <td>10248</td>\n",
       "      <td>90</td>\n",
       "      <td>5</td>\n",
       "      <td>1996-07-04</td>\n",
       "      <td>3</td>\n",
       "      <td>1</td>\n",
       "      <td>10248</td>\n",
       "      <td>11</td>\n",
       "      <td>12</td>\n",
       "      <td>11</td>\n",
       "      <td>...</td>\n",
       "      <td>4</td>\n",
       "      <td>1 kg pkg.</td>\n",
       "      <td>21.00</td>\n",
       "      <td>90</td>\n",
       "      <td>Wilman Kala</td>\n",
       "      <td>Matti Karttunen</td>\n",
       "      <td>Keskuskatu 45</td>\n",
       "      <td>Helsinki</td>\n",
       "      <td>21240</td>\n",
       "      <td>Finland</td>\n",
       "    </tr>\n",
       "    <tr>\n",
       "      <th>1</th>\n",
       "      <td>10248</td>\n",
       "      <td>90</td>\n",
       "      <td>5</td>\n",
       "      <td>1996-07-04</td>\n",
       "      <td>3</td>\n",
       "      <td>2</td>\n",
       "      <td>10248</td>\n",
       "      <td>42</td>\n",
       "      <td>10</td>\n",
       "      <td>42</td>\n",
       "      <td>...</td>\n",
       "      <td>5</td>\n",
       "      <td>32 - 1 kg pkgs.</td>\n",
       "      <td>14.00</td>\n",
       "      <td>90</td>\n",
       "      <td>Wilman Kala</td>\n",
       "      <td>Matti Karttunen</td>\n",
       "      <td>Keskuskatu 45</td>\n",
       "      <td>Helsinki</td>\n",
       "      <td>21240</td>\n",
       "      <td>Finland</td>\n",
       "    </tr>\n",
       "    <tr>\n",
       "      <th>2</th>\n",
       "      <td>10248</td>\n",
       "      <td>90</td>\n",
       "      <td>5</td>\n",
       "      <td>1996-07-04</td>\n",
       "      <td>3</td>\n",
       "      <td>3</td>\n",
       "      <td>10248</td>\n",
       "      <td>72</td>\n",
       "      <td>5</td>\n",
       "      <td>72</td>\n",
       "      <td>...</td>\n",
       "      <td>4</td>\n",
       "      <td>24 - 200 g pkgs.</td>\n",
       "      <td>34.80</td>\n",
       "      <td>90</td>\n",
       "      <td>Wilman Kala</td>\n",
       "      <td>Matti Karttunen</td>\n",
       "      <td>Keskuskatu 45</td>\n",
       "      <td>Helsinki</td>\n",
       "      <td>21240</td>\n",
       "      <td>Finland</td>\n",
       "    </tr>\n",
       "    <tr>\n",
       "      <th>3</th>\n",
       "      <td>10249</td>\n",
       "      <td>81</td>\n",
       "      <td>6</td>\n",
       "      <td>1996-07-05</td>\n",
       "      <td>1</td>\n",
       "      <td>4</td>\n",
       "      <td>10249</td>\n",
       "      <td>14</td>\n",
       "      <td>9</td>\n",
       "      <td>14</td>\n",
       "      <td>...</td>\n",
       "      <td>7</td>\n",
       "      <td>40 - 100 g pkgs.</td>\n",
       "      <td>23.25</td>\n",
       "      <td>81</td>\n",
       "      <td>Tradição Hipermercados</td>\n",
       "      <td>Anabela Domingues</td>\n",
       "      <td>Av. Inês de Castro, 414</td>\n",
       "      <td>São Paulo</td>\n",
       "      <td>05634-030</td>\n",
       "      <td>Brazil</td>\n",
       "    </tr>\n",
       "    <tr>\n",
       "      <th>4</th>\n",
       "      <td>10249</td>\n",
       "      <td>81</td>\n",
       "      <td>6</td>\n",
       "      <td>1996-07-05</td>\n",
       "      <td>1</td>\n",
       "      <td>5</td>\n",
       "      <td>10249</td>\n",
       "      <td>51</td>\n",
       "      <td>40</td>\n",
       "      <td>51</td>\n",
       "      <td>...</td>\n",
       "      <td>7</td>\n",
       "      <td>50 - 300 g pkgs.</td>\n",
       "      <td>53.00</td>\n",
       "      <td>81</td>\n",
       "      <td>Tradição Hipermercados</td>\n",
       "      <td>Anabela Domingues</td>\n",
       "      <td>Av. Inês de Castro, 414</td>\n",
       "      <td>São Paulo</td>\n",
       "      <td>05634-030</td>\n",
       "      <td>Brazil</td>\n",
       "    </tr>\n",
       "  </tbody>\n",
       "</table>\n",
       "<p>5 rows × 22 columns</p>\n",
       "</div>"
      ],
      "text/plain": [
       "   OrderID CustomerID  EmployeeID   OrderDate  ShipperID  OrderDetailID  \\\n",
       "0    10248         90           5  1996-07-04          3              1   \n",
       "1    10248         90           5  1996-07-04          3              2   \n",
       "2    10248         90           5  1996-07-04          3              3   \n",
       "3    10249         81           6  1996-07-05          1              4   \n",
       "4    10249         81           6  1996-07-05          1              5   \n",
       "\n",
       "   OrderID  ProductID  Quantity  ProductID  ... CategoryID              Unit  \\\n",
       "0    10248         11        12         11  ...          4         1 kg pkg.   \n",
       "1    10248         42        10         42  ...          5   32 - 1 kg pkgs.   \n",
       "2    10248         72         5         72  ...          4  24 - 200 g pkgs.   \n",
       "3    10249         14         9         14  ...          7  40 - 100 g pkgs.   \n",
       "4    10249         51        40         51  ...          7  50 - 300 g pkgs.   \n",
       "\n",
       "   Price CustomerID            CustomerName        ContactName  \\\n",
       "0  21.00         90             Wilman Kala    Matti Karttunen   \n",
       "1  14.00         90             Wilman Kala    Matti Karttunen   \n",
       "2  34.80         90             Wilman Kala    Matti Karttunen   \n",
       "3  23.25         81  Tradição Hipermercados  Anabela Domingues   \n",
       "4  53.00         81  Tradição Hipermercados  Anabela Domingues   \n",
       "\n",
       "                   Address       City PostalCode  Country  \n",
       "0            Keskuskatu 45   Helsinki      21240  Finland  \n",
       "1            Keskuskatu 45   Helsinki      21240  Finland  \n",
       "2            Keskuskatu 45   Helsinki      21240  Finland  \n",
       "3  Av. Inês de Castro, 414  São Paulo  05634-030   Brazil  \n",
       "4  Av. Inês de Castro, 414  São Paulo  05634-030   Brazil  \n",
       "\n",
       "[5 rows x 22 columns]"
      ]
     },
     "execution_count": 3,
     "metadata": {},
     "output_type": "execute_result"
    }
   ],
   "source": [
    "sql_query = \"\"\"\n",
    "SELECT * FROM orders o\n",
    "join order_details od ON od.OrderID = o.OrderID\n",
    "join products p ON p.ProductID = od.ProductID\n",
    "join customers c ON c.CustomerID = o.CustomerID\n",
    "\"\"\"\n",
    "\n",
    "df = pd.read_sql(sql_query, engine)\n",
    "df.head()"
   ]
  },
  {
   "cell_type": "code",
   "execution_count": 4,
   "id": "c33dceb9-5343-4104-b303-28e7e65796a3",
   "metadata": {},
   "outputs": [
    {
     "data": {
      "text/plain": [
       "(503, 22)"
      ]
     },
     "execution_count": 4,
     "metadata": {},
     "output_type": "execute_result"
    }
   ],
   "source": [
    "df.shape"
   ]
  },
  {
   "cell_type": "code",
   "execution_count": 5,
   "id": "0d55c6f7-cd21-4737-85ac-edcb306508f9",
   "metadata": {},
   "outputs": [
    {
     "data": {
      "text/plain": [
       "Index(['OrderID', 'CustomerID', 'EmployeeID', 'OrderDate', 'ShipperID',\n",
       "       'OrderDetailID', 'OrderID', 'ProductID', 'Quantity', 'ProductID',\n",
       "       'ProductName', 'SupplierID', 'CategoryID', 'Unit', 'Price',\n",
       "       'CustomerID', 'CustomerName', 'ContactName', 'Address', 'City',\n",
       "       'PostalCode', 'Country'],\n",
       "      dtype='object')"
      ]
     },
     "execution_count": 5,
     "metadata": {},
     "output_type": "execute_result"
    }
   ],
   "source": [
    "df.columns"
   ]
  },
  {
   "cell_type": "code",
   "execution_count": 6,
   "id": "1ee4eb85-1272-4061-bf14-75d74a110d45",
   "metadata": {},
   "outputs": [
    {
     "data": {
      "text/plain": [
       "array([False, False, False, False, False, False,  True, False, False,\n",
       "        True, False, False, False, False, False,  True, False, False,\n",
       "       False, False, False, False])"
      ]
     },
     "execution_count": 6,
     "metadata": {},
     "output_type": "execute_result"
    }
   ],
   "source": [
    "df.columns.duplicated()"
   ]
  },
  {
   "cell_type": "markdown",
   "id": "292cc688-dbd2-46aa-89e3-bb0db090199c",
   "metadata": {},
   "source": [
    "## Dropping Redundant Columns"
   ]
  },
  {
   "cell_type": "code",
   "execution_count": 7,
   "id": "163f4f8d-5ab0-4a48-84a6-3b2e0114bfeb",
   "metadata": {},
   "outputs": [
    {
     "data": {
      "text/html": [
       "<div>\n",
       "<style scoped>\n",
       "    .dataframe tbody tr th:only-of-type {\n",
       "        vertical-align: middle;\n",
       "    }\n",
       "\n",
       "    .dataframe tbody tr th {\n",
       "        vertical-align: top;\n",
       "    }\n",
       "\n",
       "    .dataframe thead th {\n",
       "        text-align: right;\n",
       "    }\n",
       "</style>\n",
       "<table border=\"1\" class=\"dataframe\">\n",
       "  <thead>\n",
       "    <tr style=\"text-align: right;\">\n",
       "      <th></th>\n",
       "      <th>OrderDate</th>\n",
       "      <th>ShipperID</th>\n",
       "      <th>Quantity</th>\n",
       "      <th>ProductName</th>\n",
       "      <th>CategoryID</th>\n",
       "      <th>Unit</th>\n",
       "      <th>Price</th>\n",
       "      <th>Address</th>\n",
       "      <th>City</th>\n",
       "      <th>PostalCode</th>\n",
       "      <th>Country</th>\n",
       "    </tr>\n",
       "  </thead>\n",
       "  <tbody>\n",
       "    <tr>\n",
       "      <th>0</th>\n",
       "      <td>1996-07-04</td>\n",
       "      <td>3</td>\n",
       "      <td>12</td>\n",
       "      <td>Queso Cabrales</td>\n",
       "      <td>4</td>\n",
       "      <td>1 kg pkg.</td>\n",
       "      <td>21.00</td>\n",
       "      <td>Keskuskatu 45</td>\n",
       "      <td>Helsinki</td>\n",
       "      <td>21240</td>\n",
       "      <td>Finland</td>\n",
       "    </tr>\n",
       "    <tr>\n",
       "      <th>1</th>\n",
       "      <td>1996-07-04</td>\n",
       "      <td>3</td>\n",
       "      <td>10</td>\n",
       "      <td>Singaporean Hokkien Fried Mee</td>\n",
       "      <td>5</td>\n",
       "      <td>32 - 1 kg pkgs.</td>\n",
       "      <td>14.00</td>\n",
       "      <td>Keskuskatu 45</td>\n",
       "      <td>Helsinki</td>\n",
       "      <td>21240</td>\n",
       "      <td>Finland</td>\n",
       "    </tr>\n",
       "    <tr>\n",
       "      <th>2</th>\n",
       "      <td>1996-07-04</td>\n",
       "      <td>3</td>\n",
       "      <td>5</td>\n",
       "      <td>Mozzarella di Giovanni</td>\n",
       "      <td>4</td>\n",
       "      <td>24 - 200 g pkgs.</td>\n",
       "      <td>34.80</td>\n",
       "      <td>Keskuskatu 45</td>\n",
       "      <td>Helsinki</td>\n",
       "      <td>21240</td>\n",
       "      <td>Finland</td>\n",
       "    </tr>\n",
       "    <tr>\n",
       "      <th>3</th>\n",
       "      <td>1996-07-05</td>\n",
       "      <td>1</td>\n",
       "      <td>9</td>\n",
       "      <td>Tofu</td>\n",
       "      <td>7</td>\n",
       "      <td>40 - 100 g pkgs.</td>\n",
       "      <td>23.25</td>\n",
       "      <td>Av. Inês de Castro, 414</td>\n",
       "      <td>São Paulo</td>\n",
       "      <td>05634-030</td>\n",
       "      <td>Brazil</td>\n",
       "    </tr>\n",
       "    <tr>\n",
       "      <th>4</th>\n",
       "      <td>1996-07-05</td>\n",
       "      <td>1</td>\n",
       "      <td>40</td>\n",
       "      <td>Manjimup Dried Apples</td>\n",
       "      <td>7</td>\n",
       "      <td>50 - 300 g pkgs.</td>\n",
       "      <td>53.00</td>\n",
       "      <td>Av. Inês de Castro, 414</td>\n",
       "      <td>São Paulo</td>\n",
       "      <td>05634-030</td>\n",
       "      <td>Brazil</td>\n",
       "    </tr>\n",
       "  </tbody>\n",
       "</table>\n",
       "</div>"
      ],
      "text/plain": [
       "    OrderDate  ShipperID  Quantity                    ProductName  CategoryID  \\\n",
       "0  1996-07-04          3        12                 Queso Cabrales           4   \n",
       "1  1996-07-04          3        10  Singaporean Hokkien Fried Mee           5   \n",
       "2  1996-07-04          3         5         Mozzarella di Giovanni           4   \n",
       "3  1996-07-05          1         9                           Tofu           7   \n",
       "4  1996-07-05          1        40          Manjimup Dried Apples           7   \n",
       "\n",
       "               Unit  Price                  Address       City PostalCode  \\\n",
       "0         1 kg pkg.  21.00            Keskuskatu 45   Helsinki      21240   \n",
       "1   32 - 1 kg pkgs.  14.00            Keskuskatu 45   Helsinki      21240   \n",
       "2  24 - 200 g pkgs.  34.80            Keskuskatu 45   Helsinki      21240   \n",
       "3  40 - 100 g pkgs.  23.25  Av. Inês de Castro, 414  São Paulo  05634-030   \n",
       "4  50 - 300 g pkgs.  53.00  Av. Inês de Castro, 414  São Paulo  05634-030   \n",
       "\n",
       "   Country  \n",
       "0  Finland  \n",
       "1  Finland  \n",
       "2  Finland  \n",
       "3   Brazil  \n",
       "4   Brazil  "
      ]
     },
     "execution_count": 7,
     "metadata": {},
     "output_type": "execute_result"
    }
   ],
   "source": [
    "columns_to_remove = [\"OrderID\", \"CustomerID\", \"EmployeeID\",\n",
    "                     \"OrderDetailID\", \"ProductID\", \"SupplierID\",\n",
    "                     \"CustomerName\", \"ContactName\"]\n",
    "df = df.drop(columns=columns_to_remove)\n",
    "df.head()"
   ]
  },
  {
   "cell_type": "markdown",
   "id": "0e1c8496-6402-4f78-9b72-d6bfbbc87584",
   "metadata": {},
   "source": [
    "## Removing Duplicated Columns"
   ]
  },
  {
   "cell_type": "code",
   "execution_count": 8,
   "id": "ad410899-4a98-4739-aa8b-fddf8febe24a",
   "metadata": {},
   "outputs": [
    {
     "data": {
      "text/plain": [
       "0"
      ]
     },
     "execution_count": 8,
     "metadata": {},
     "output_type": "execute_result"
    }
   ],
   "source": [
    "df.columns.duplicated().sum()"
   ]
  },
  {
   "cell_type": "markdown",
   "id": "cbc15190-2a55-4336-835c-1875d51c1b7f",
   "metadata": {},
   "source": [
    "## Checking Data Types"
   ]
  },
  {
   "cell_type": "code",
   "execution_count": 9,
   "id": "b20934a4-1398-426c-b5b4-51d077ead9aa",
   "metadata": {},
   "outputs": [
    {
     "data": {
      "text/plain": [
       "OrderDate       object\n",
       "ShipperID        int64\n",
       "Quantity         int64\n",
       "ProductName     object\n",
       "CategoryID       int64\n",
       "Unit            object\n",
       "Price          float64\n",
       "Address         object\n",
       "City            object\n",
       "PostalCode      object\n",
       "Country         object\n",
       "dtype: object"
      ]
     },
     "execution_count": 9,
     "metadata": {},
     "output_type": "execute_result"
    }
   ],
   "source": [
    "df.dtypes"
   ]
  },
  {
   "cell_type": "code",
   "execution_count": 10,
   "id": "4c8b2f70-d024-4981-9112-884e90473cd7",
   "metadata": {},
   "outputs": [
    {
     "data": {
      "text/plain": [
       "OrderDate      datetime64[ns]\n",
       "ShipperID               int64\n",
       "Quantity                int64\n",
       "ProductName            object\n",
       "CategoryID              int64\n",
       "Unit                   object\n",
       "Price                 float64\n",
       "Address                object\n",
       "City                   object\n",
       "PostalCode             object\n",
       "Country                object\n",
       "dtype: object"
      ]
     },
     "execution_count": 10,
     "metadata": {},
     "output_type": "execute_result"
    }
   ],
   "source": [
    "df['OrderDate']= pd.to_datetime(df['OrderDate'])\n",
    "df.dtypes"
   ]
  },
  {
   "cell_type": "markdown",
   "id": "5609fb5e-18bd-40da-ac3c-cb6f614279b1",
   "metadata": {},
   "source": [
    "## Save Data"
   ]
  },
  {
   "cell_type": "code",
   "execution_count": 11,
   "id": "db6089bf-90f6-4a88-9c11-8c6c526c8031",
   "metadata": {},
   "outputs": [],
   "source": [
    "df.to_csv(\"df.csv\", index=False)"
   ]
  },
  {
   "cell_type": "code",
   "execution_count": 12,
   "id": "943e50d1-e249-4c05-8e34-bdcd9c0e537c",
   "metadata": {},
   "outputs": [],
   "source": [
    "df.to_pickle(\"df.pickle\")"
   ]
  },
  {
   "cell_type": "code",
   "execution_count": 13,
   "id": "1dc1ea44-2ef4-4134-93ef-5d42931d0054",
   "metadata": {},
   "outputs": [],
   "source": [
    "df.to_parquet(\"df.parquet\")"
   ]
  },
  {
   "cell_type": "code",
   "execution_count": null,
   "id": "d01d87bc-436d-4311-823b-3b230271cdab",
   "metadata": {},
   "outputs": [],
   "source": []
  }
 ],
 "metadata": {
  "kernelspec": {
   "display_name": "Python 3 (ipykernel)",
   "language": "python",
   "name": "python3"
  },
  "language_info": {
   "codemirror_mode": {
    "name": "ipython",
    "version": 3
   },
   "file_extension": ".py",
   "mimetype": "text/x-python",
   "name": "python",
   "nbconvert_exporter": "python",
   "pygments_lexer": "ipython3",
   "version": "3.10.11"
  }
 },
 "nbformat": 4,
 "nbformat_minor": 5
}
