{
 "cells": [
  {
   "cell_type": "markdown",
   "id": "a53eedfa-8f18-4af0-a408-daad3857b9a1",
   "metadata": {},
   "source": [
    "# Representational State Transfer (REST) API"
   ]
  },
  {
   "cell_type": "code",
   "execution_count": 7,
   "id": "2a814270-73d5-4b4b-8104-434565361517",
   "metadata": {},
   "outputs": [
    {
     "name": "stdout",
     "output_type": "stream",
     "text": [
      "Status: 200\n"
     ]
    },
    {
     "data": {
      "text/plain": [
       "{'total': 8,\n",
       " 'result': [{'categories': ['food'],\n",
       "   'created_at': '2020-01-05 13:42:18.823766',\n",
       "   'icon_url': 'https://assets.chucknorris.host/img/avatar/chuck-norris.png',\n",
       "   'id': 'tnsit4iqsk2fe7ohwk1qgq',\n",
       "   'updated_at': '2020-01-05 13:42:18.823766',\n",
       "   'url': 'https://api.chucknorris.io/jokes/tnsit4iqsk2fe7ohwk1qgq',\n",
       "   'value': 'Chuck Norris owns a chain of fast-food restaurants throughout the southwest. They serve nothing but barbecue-flavored ice cream and Hot Pockets.'},\n",
       "  {'categories': [],\n",
       "   'created_at': '2020-01-05 13:42:19.104863',\n",
       "   'icon_url': 'https://assets.chucknorris.host/img/avatar/chuck-norris.png',\n",
       "   'id': 'kudfbz0dtlw83676r_cmea',\n",
       "   'updated_at': '2020-01-05 13:42:19.104863',\n",
       "   'url': 'https://api.chucknorris.io/jokes/kudfbz0dtlw83676r_cmea',\n",
       "   'value': 'Chuck Norris drives an ice cream truck covered in human skulls.'},\n",
       "  {'categories': [],\n",
       "   'created_at': '2020-01-05 13:42:21.455187',\n",
       "   'icon_url': 'https://assets.chucknorris.host/img/avatar/chuck-norris.png',\n",
       "   'id': '7RfU69UtTEiLflwPeQ5gLQ',\n",
       "   'updated_at': '2020-01-05 13:42:21.455187',\n",
       "   'url': 'https://api.chucknorris.io/jokes/7RfU69UtTEiLflwPeQ5gLQ',\n",
       "   'value': 'Ice Cream Is To Afraid To Melt If Chuck Norris Is Eating It.'},\n",
       "  {'categories': [],\n",
       "   'created_at': '2020-01-05 13:42:22.980058',\n",
       "   'icon_url': 'https://assets.chucknorris.host/img/avatar/chuck-norris.png',\n",
       "   'id': 'yhDfghO6TryHzl0vvupv1Q',\n",
       "   'updated_at': '2020-01-05 13:42:22.980058',\n",
       "   'url': 'https://api.chucknorris.io/jokes/yhDfghO6TryHzl0vvupv1Q',\n",
       "   'value': 'It was once known as \"The Bad Humor\" ice cream, ice cream truck and ice cream man. Then,Chuck Norris resigned.'},\n",
       "  {'categories': ['explicit'],\n",
       "   'created_at': '2020-01-05 13:42:23.484083',\n",
       "   'icon_url': 'https://assets.chucknorris.host/img/avatar/chuck-norris.png',\n",
       "   'id': 'ZPIZlnijQeelusVMNJnkjA',\n",
       "   'updated_at': '2020-01-05 13:42:23.484083',\n",
       "   'url': 'https://api.chucknorris.io/jokes/ZPIZlnijQeelusVMNJnkjA',\n",
       "   'value': \"Chuck Norris invented ice cream for all the women he hasn't gotten to yet. One day, only gay fat guys will eat ice cream. And that right soon.\"},\n",
       "  {'categories': [],\n",
       "   'created_at': '2020-01-05 13:42:28.664997',\n",
       "   'icon_url': 'https://assets.chucknorris.host/img/avatar/chuck-norris.png',\n",
       "   'id': 'TlL5B3QjQT6NYE_dd6muxQ',\n",
       "   'updated_at': '2020-01-05 13:42:28.664997',\n",
       "   'url': 'https://api.chucknorris.io/jokes/TlL5B3QjQT6NYE_dd6muxQ',\n",
       "   'value': \"Chuck Norris doesn't eat ice cream. He eats U scream.\"},\n",
       "  {'categories': [],\n",
       "   'created_at': '2020-01-05 13:42:29.569033',\n",
       "   'icon_url': 'https://assets.chucknorris.host/img/avatar/chuck-norris.png',\n",
       "   'id': 'fV_qW_jYSSaq7ygZGRSPgQ',\n",
       "   'updated_at': '2020-01-05 13:42:29.569033',\n",
       "   'url': 'https://api.chucknorris.io/jokes/fV_qW_jYSSaq7ygZGRSPgQ',\n",
       "   'value': \"Dairy Queen announced it's newest DQ treat, the Chuck Norris Combo Blizzard consisting of DQ ice cream, metal shavings, gun powder, Tobasco & topped with crushed glass.\"},\n",
       "  {'categories': [],\n",
       "   'created_at': '2020-01-05 13:42:30.177068',\n",
       "   'icon_url': 'https://assets.chucknorris.host/img/avatar/chuck-norris.png',\n",
       "   'id': 'hNvJ3ljzTiqnTsKeLuRJ2g',\n",
       "   'updated_at': '2020-01-05 13:42:30.177068',\n",
       "   'url': 'https://api.chucknorris.io/jokes/hNvJ3ljzTiqnTsKeLuRJ2g',\n",
       "   'value': 'Chuck Norris can make ice cream... in a iron a smelter'}]}"
      ]
     },
     "execution_count": 7,
     "metadata": {},
     "output_type": "execute_result"
    }
   ],
   "source": [
    "import requests\n",
    "\n",
    "url = \"https://matchilling-chuck-norris-jokes-v1.p.rapidapi.com/jokes/search\"\n",
    "\n",
    "querystring = {\"query\":\"ice cream\"}\n",
    "\n",
    "headers = {\n",
    "    \"accept\": \"application/json\",\n",
    "    \"X-RapidAPI-Key\": \"RAPID_API_KEY\",\n",
    "    \"X-RapidAPI-Host\": \"matchilling-chuck-norris-jokes-v1.p.rapidapi.com\"\n",
    "}\n",
    "\n",
    "response = requests.get(url, headers=headers, params=querystring)\n",
    "results = response.json()\n",
    "print(f\"Status: {response.status_code}\")\n",
    "results"
   ]
  },
  {
   "cell_type": "code",
   "execution_count": 5,
   "id": "3aa2bb14-f82b-495c-b85c-e8feca6f73f6",
   "metadata": {},
   "outputs": [
    {
     "data": {
      "text/plain": [
       "'Chuck Norris owns a chain of fast-food restaurants throughout the southwest. They serve nothing but barbecue-flavored ice cream and Hot Pockets.'"
      ]
     },
     "execution_count": 5,
     "metadata": {},
     "output_type": "execute_result"
    }
   ],
   "source": [
    "results[\"result\"][0][\"value\"]"
   ]
  }
 ],
 "metadata": {
  "kernelspec": {
   "display_name": "Python 3 (ipykernel)",
   "language": "python",
   "name": "python3"
  },
  "language_info": {
   "codemirror_mode": {
    "name": "ipython",
    "version": 3
   },
   "file_extension": ".py",
   "mimetype": "text/x-python",
   "name": "python",
   "nbconvert_exporter": "python",
   "pygments_lexer": "ipython3",
   "version": "3.8.16"
  }
 },
 "nbformat": 4,
 "nbformat_minor": 5
}
