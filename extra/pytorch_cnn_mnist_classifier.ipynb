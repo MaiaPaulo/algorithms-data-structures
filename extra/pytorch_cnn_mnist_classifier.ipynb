{
 "cells": [
  {
   "cell_type": "code",
   "execution_count": 4,
   "outputs": [],
   "source": [
    "from PIL import Image\n",
    "import numpy as np\n",
    "import matplotlib.pyplot as plt\n",
    "from torchvision import transforms\n",
    "import torch\n",
    "from torch import nn\n",
    "from torch import optim\n",
    "import torch.nn.functional as F\n",
    "import dill as pickle"
   ],
   "metadata": {
    "collapsed": false,
    "ExecuteTime": {
     "end_time": "2023-11-03T13:43:02.736062021Z",
     "start_time": "2023-11-03T13:43:02.688841637Z"
    }
   },
   "id": "69ea1c5b7dc6c63d"
  },
  {
   "cell_type": "code",
   "execution_count": 5,
   "outputs": [],
   "source": [
    "class Network(nn.Module):\n",
    "    def __init__(self):\n",
    "        super(Network, self).__init__()\n",
    "        self.convolutional_neural_network_layers = nn.Sequential(\n",
    "            nn.Conv2d(in_channels=1, out_channels=12, kernel_size=3, padding=1, stride=1),\n",
    "            nn.ReLU(),\n",
    "            nn.MaxPool2d(kernel_size=2),\n",
    "            nn.Conv2d(in_channels=12, out_channels=24, kernel_size=3, padding=1, stride=1),\n",
    "            nn.ReLU(),\n",
    "            nn.MaxPool2d(kernel_size=2)\n",
    "        )\n",
    "        self.linear_layers = nn.Sequential(\n",
    "            nn.Linear(24 * 7 * 7, out_features=64),\n",
    "            nn.ReLU(),\n",
    "            nn.Dropout(p=0.2),\n",
    "            nn.Linear(in_features=64, out_features=10)\n",
    "        )\n",
    "    def forward(self, x):\n",
    "        x = self.convolutional_neural_network_layers(x)\n",
    "        x = x.view(x.size(0), -1)\n",
    "        x = self.linear_layers(x)\n",
    "        x = F.log_softmax(x, dim=1)\n",
    "        return x"
   ],
   "metadata": {
    "collapsed": false,
    "ExecuteTime": {
     "end_time": "2023-11-03T13:43:02.983218839Z",
     "start_time": "2023-11-03T13:43:02.980319484Z"
    }
   },
   "id": "f14c33ba91322875"
  },
  {
   "cell_type": "code",
   "execution_count": 6,
   "outputs": [],
   "source": [
    "model = torch.load(\"Torch_cnn_model.pkl\",map_location=torch.device('cpu'))\n",
    "# model = pickle.load(open(\"model.pkl\",'rb'))"
   ],
   "metadata": {
    "collapsed": false,
    "ExecuteTime": {
     "end_time": "2023-11-03T13:43:03.247029215Z",
     "start_time": "2023-11-03T13:43:03.243098791Z"
    }
   },
   "id": "initial_id"
  },
  {
   "cell_type": "code",
   "execution_count": 7,
   "outputs": [],
   "source": [
    "image_path = 'images/5.jpeg'\n",
    "image = Image.open(image_path)"
   ],
   "metadata": {
    "collapsed": false,
    "ExecuteTime": {
     "end_time": "2023-11-03T13:43:03.509724625Z",
     "start_time": "2023-11-03T13:43:03.503848316Z"
    }
   },
   "id": "20881e67d4afa739"
  },
  {
   "cell_type": "code",
   "execution_count": 8,
   "outputs": [],
   "source": [
    "transform = transforms.Compose([\n",
    "    transforms.ToTensor(),\n",
    "    transforms.Normalize((0.1,), (0.3,))\n",
    "])"
   ],
   "metadata": {
    "collapsed": false,
    "ExecuteTime": {
     "end_time": "2023-11-03T13:43:03.805744780Z",
     "start_time": "2023-11-03T13:43:03.803077926Z"
    }
   },
   "id": "3ad57367b32c54ae"
  },
  {
   "cell_type": "code",
   "execution_count": 9,
   "outputs": [],
   "source": [
    "img_tranform = transform(image)"
   ],
   "metadata": {
    "collapsed": false,
    "ExecuteTime": {
     "end_time": "2023-11-03T13:43:04.156862994Z",
     "start_time": "2023-11-03T13:43:04.153217543Z"
    }
   },
   "id": "c47c08487e6eba30"
  },
  {
   "cell_type": "code",
   "execution_count": 9,
   "outputs": [],
   "source": [],
   "metadata": {
    "collapsed": false,
    "ExecuteTime": {
     "end_time": "2023-11-03T13:43:04.521420636Z",
     "start_time": "2023-11-03T13:43:04.516979311Z"
    }
   },
   "id": "83ca766a76546540"
  },
  {
   "cell_type": "code",
   "execution_count": 10,
   "outputs": [],
   "source": [
    "img = img_tranform\n",
    "img = img.view(-1,1,28,28)\n",
    "with torch.no_grad():\n",
    "    logits = model.forward(img)"
   ],
   "metadata": {
    "collapsed": false,
    "ExecuteTime": {
     "end_time": "2023-11-03T13:43:04.745675980Z",
     "start_time": "2023-11-03T13:43:04.742643071Z"
    }
   },
   "id": "b082b35917554281"
  },
  {
   "cell_type": "code",
   "execution_count": 11,
   "outputs": [
    {
     "data": {
      "text/plain": "<Figure size 600x800 with 2 Axes>",
      "image/png": "[encoded data removed]"
     },
     "metadata": {},
     "output_type": "display_data"
    }
   ],
   "source": [
    "probabilities = F.softmax(logits, dim =1).detach().cpu().numpy().squeeze()\n",
    "fig, (ax1, ax2) = plt.subplots(figsize = (6,8), ncols= 2)\n",
    "ax1.imshow(img.view(1, 28, 28).detach().cpu().numpy().squeeze())\n",
    "ax1.axis('off')\n",
    "ax2.barh(np.arange(10), probabilities, color='b')\n",
    "ax2.set_yticks(np.arange(10))\n",
    "ax2.set_title('Model Prediction')\n",
    "plt.show()"
   ],
   "metadata": {
    "collapsed": false,
    "ExecuteTime": {
     "end_time": "2023-11-03T13:43:05.120811699Z",
     "start_time": "2023-11-03T13:43:04.965664561Z"
    }
   },
   "id": "d5ea8f3391319106"
  },
  {
   "cell_type": "code",
   "execution_count": 20,
   "outputs": [
    {
     "data": {
      "text/plain": "5"
     },
     "execution_count": 20,
     "metadata": {},
     "output_type": "execute_result"
    }
   ],
   "source": [
    "np.where(probabilities == probabilities.max())[0][0]"
   ],
   "metadata": {
    "collapsed": false,
    "ExecuteTime": {
     "end_time": "2023-11-03T13:46:04.647283866Z",
     "start_time": "2023-11-03T13:46:04.641134208Z"
    }
   },
   "id": "32995636a67103aa"
  },
  {
   "cell_type": "code",
   "execution_count": null,
   "outputs": [],
   "source": [],
   "metadata": {
    "collapsed": false
   },
   "id": "8137128abab7073f"
  }
 ],
 "metadata": {
  "kernelspec": {
   "display_name": "Python 3",
   "language": "python",
   "name": "python3"
  },
  "language_info": {
   "codemirror_mode": {
    "name": "ipython",
    "version": 2
   },
   "file_extension": ".py",
   "mimetype": "text/x-python",
   "name": "python",
   "nbconvert_exporter": "python",
   "pygments_lexer": "ipython2",
   "version": "2.7.6"
  }
 },
 "nbformat": 4,
 "nbformat_minor": 5
}
